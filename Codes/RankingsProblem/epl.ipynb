{
 "cells": [
  {
   "cell_type": "code",
   "execution_count": 14,
   "metadata": {},
   "outputs": [],
   "source": [
    "import pandas as pd\n",
    "import numpy as np"
   ]
  },
  {
   "cell_type": "code",
   "execution_count": 15,
   "metadata": {},
   "outputs": [],
   "source": [
    "data = pd.read_csv('/Users/vivekkumarsingh/Desktop/Research Internship /Mitacs/Work/MITACS-Couplings/Codes/RankingsProblem/england-premier-league-matches-2018-to-2019-stats.csv')"
   ]
  },
  {
   "cell_type": "code",
   "execution_count": 16,
   "metadata": {},
   "outputs": [
    {
     "data": {
      "text/plain": [
       "Index(['timestamp', 'date_GMT', 'status', 'attendance', 'home_team_name',\n",
       "       'away_team_name', 'referee', 'Game Week', 'Pre-Match PPG (Home)',\n",
       "       'Pre-Match PPG (Away)', 'home_ppg', 'away_ppg', 'home_team_goal_count',\n",
       "       'away_team_goal_count', 'total_goal_count', 'total_goals_at_half_time',\n",
       "       'home_team_goal_count_half_time', 'away_team_goal_count_half_time',\n",
       "       'home_team_goal_timings', 'away_team_goal_timings',\n",
       "       'home_team_corner_count', 'away_team_corner_count',\n",
       "       'home_team_yellow_cards', 'home_team_red_cards',\n",
       "       'away_team_yellow_cards', 'away_team_red_cards',\n",
       "       'home_team_first_half_cards', 'home_team_second_half_cards',\n",
       "       'away_team_first_half_cards', 'away_team_second_half_cards',\n",
       "       'home_team_shots', 'away_team_shots', 'home_team_shots_on_target',\n",
       "       'away_team_shots_on_target', 'home_team_shots_off_target',\n",
       "       'away_team_shots_off_target', 'home_team_fouls', 'away_team_fouls',\n",
       "       'home_team_possession', 'away_team_possession', 'team_a_xg',\n",
       "       'team_b_xg', 'average_goals_per_match_pre_match',\n",
       "       'btts_percentage_pre_match', 'over_15_percentage_pre_match',\n",
       "       'over_25_percentage_pre_match', 'over_35_percentage_pre_match',\n",
       "       'over_45_percentage_pre_match', 'over_15_HT_FHG_percentage_pre_match',\n",
       "       'over_05_HT_FHG_percentage_pre_match',\n",
       "       'over_15_2HG_percentage_pre_match', 'over_05_2HG_percentage_pre_match',\n",
       "       'average_corners_per_match_pre_match',\n",
       "       'average_cards_per_match_pre_match', 'odds_ft_home_team_win',\n",
       "       'odds_ft_draw', 'odds_ft_away_team_win', 'odds_ft_over15',\n",
       "       'odds_ft_over25', 'odds_ft_over35', 'odds_ft_over45', 'odds_btts_yes',\n",
       "       'odds_btts_no', 'stadium_name'],\n",
       "      dtype='object')"
      ]
     },
     "execution_count": 16,
     "metadata": {},
     "output_type": "execute_result"
    }
   ],
   "source": [
    "data.columns"
   ]
  },
  {
   "cell_type": "code",
   "execution_count": 17,
   "metadata": {},
   "outputs": [],
   "source": [
    "df = pd.DataFrame()\n",
    "df['home'] = data['home_team_name']\n",
    "df['away'] = data['away_team_name']\n",
    "df['home_goal'] = data['home_team_goal_count']\n",
    "df['away_goal'] = data['away_team_goal_count']"
   ]
  },
  {
   "cell_type": "code",
   "execution_count": 18,
   "metadata": {},
   "outputs": [
    {
     "data": {
      "text/plain": [
       "Index(['home', 'away', 'home_goal', 'away_goal'], dtype='object')"
      ]
     },
     "execution_count": 18,
     "metadata": {},
     "output_type": "execute_result"
    }
   ],
   "source": [
    "df.columns"
   ]
  },
  {
   "cell_type": "code",
   "execution_count": 19,
   "metadata": {},
   "outputs": [],
   "source": [
    "df.loc[df['home_goal'] > df['away_goal'], 'win_or_lose'] = 1\n",
    "df.loc[df['home_goal'] < df['away_goal'], 'win_or_lose'] = -1\n",
    "df.loc[df['home_goal'] == df['away_goal'], 'win_or_lose'] = 0"
   ]
  },
  {
   "cell_type": "code",
   "execution_count": 20,
   "metadata": {},
   "outputs": [
    {
     "data": {
      "text/plain": [
       "array(['Manchester United', 'Newcastle United', 'AFC Bournemouth',\n",
       "       'Fulham', 'Huddersfield Town', 'Watford',\n",
       "       'Wolverhampton Wanderers', 'Liverpool', 'Southampton', 'Arsenal',\n",
       "       'Cardiff City', 'Everton', 'Leicester City', 'Tottenham Hotspur',\n",
       "       'West Ham United', 'Chelsea', 'Burnley', 'Manchester City',\n",
       "       'Brighton & Hove Albion', 'Crystal Palace'], dtype=object)"
      ]
     },
     "execution_count": 20,
     "metadata": {},
     "output_type": "execute_result"
    }
   ],
   "source": [
    "teams = df['home'].unique()\n",
    "teams"
   ]
  },
  {
   "cell_type": "code",
   "execution_count": 21,
   "metadata": {},
   "outputs": [
    {
     "data": {
      "text/plain": [
       "{'Manchester United': 1,\n",
       " 'Newcastle United': 2,\n",
       " 'AFC Bournemouth': 3,\n",
       " 'Fulham': 4,\n",
       " 'Huddersfield Town': 5,\n",
       " 'Watford': 6,\n",
       " 'Wolverhampton Wanderers': 7,\n",
       " 'Liverpool': 8,\n",
       " 'Southampton': 9,\n",
       " 'Arsenal': 10,\n",
       " 'Cardiff City': 11,\n",
       " 'Everton': 12,\n",
       " 'Leicester City': 13,\n",
       " 'Tottenham Hotspur': 14,\n",
       " 'West Ham United': 15,\n",
       " 'Chelsea': 16,\n",
       " 'Burnley': 17,\n",
       " 'Manchester City': 18,\n",
       " 'Brighton & Hove Albion': 19,\n",
       " 'Crystal Palace': 20}"
      ]
     },
     "execution_count": 21,
     "metadata": {},
     "output_type": "execute_result"
    }
   ],
   "source": [
    "teams_dict = {}\n",
    "for i in range(len(teams)):\n",
    "\tteams_dict[teams[i]] = i+1\n",
    "teams_dict"
   ]
  },
  {
   "cell_type": "markdown",
   "metadata": {},
   "source": [
    "18, 8, 16, 14, 10, 1, 7, 12, 13, 15, 6, 20, 2, 3, 17, 9, 19, 11, 4, 5"
   ]
  },
  {
   "cell_type": "code",
   "execution_count": 22,
   "metadata": {},
   "outputs": [],
   "source": [
    "df.home = df.home.map(teams_dict)\n",
    "df.away = df.away.map(teams_dict)"
   ]
  },
  {
   "cell_type": "code",
   "execution_count": 23,
   "metadata": {},
   "outputs": [
    {
     "data": {
      "text/html": [
       "<div>\n",
       "<style scoped>\n",
       "    .dataframe tbody tr th:only-of-type {\n",
       "        vertical-align: middle;\n",
       "    }\n",
       "\n",
       "    .dataframe tbody tr th {\n",
       "        vertical-align: top;\n",
       "    }\n",
       "\n",
       "    .dataframe thead th {\n",
       "        text-align: right;\n",
       "    }\n",
       "</style>\n",
       "<table border=\"1\" class=\"dataframe\">\n",
       "  <thead>\n",
       "    <tr style=\"text-align: right;\">\n",
       "      <th></th>\n",
       "      <th>home</th>\n",
       "      <th>away</th>\n",
       "      <th>home_goal</th>\n",
       "      <th>away_goal</th>\n",
       "      <th>win_or_lose</th>\n",
       "    </tr>\n",
       "  </thead>\n",
       "  <tbody>\n",
       "    <tr>\n",
       "      <th>0</th>\n",
       "      <td>1</td>\n",
       "      <td>13</td>\n",
       "      <td>2</td>\n",
       "      <td>1</td>\n",
       "      <td>1.0</td>\n",
       "    </tr>\n",
       "    <tr>\n",
       "      <th>1</th>\n",
       "      <td>2</td>\n",
       "      <td>14</td>\n",
       "      <td>1</td>\n",
       "      <td>2</td>\n",
       "      <td>-1.0</td>\n",
       "    </tr>\n",
       "    <tr>\n",
       "      <th>2</th>\n",
       "      <td>3</td>\n",
       "      <td>11</td>\n",
       "      <td>2</td>\n",
       "      <td>0</td>\n",
       "      <td>1.0</td>\n",
       "    </tr>\n",
       "    <tr>\n",
       "      <th>3</th>\n",
       "      <td>4</td>\n",
       "      <td>20</td>\n",
       "      <td>0</td>\n",
       "      <td>2</td>\n",
       "      <td>-1.0</td>\n",
       "    </tr>\n",
       "    <tr>\n",
       "      <th>4</th>\n",
       "      <td>5</td>\n",
       "      <td>16</td>\n",
       "      <td>0</td>\n",
       "      <td>3</td>\n",
       "      <td>-1.0</td>\n",
       "    </tr>\n",
       "  </tbody>\n",
       "</table>\n",
       "</div>"
      ],
      "text/plain": [
       "   home  away  home_goal  away_goal  win_or_lose\n",
       "0     1    13          2          1          1.0\n",
       "1     2    14          1          2         -1.0\n",
       "2     3    11          2          0          1.0\n",
       "3     4    20          0          2         -1.0\n",
       "4     5    16          0          3         -1.0"
      ]
     },
     "execution_count": 23,
     "metadata": {},
     "output_type": "execute_result"
    }
   ],
   "source": [
    "df.head(5)"
   ]
  },
  {
   "cell_type": "code",
   "execution_count": 24,
   "metadata": {},
   "outputs": [],
   "source": [
    "df = df.drop('home_goal', axis = 1)\n",
    "df = df.drop('away_goal', axis = 1)"
   ]
  },
  {
   "cell_type": "code",
   "execution_count": 25,
   "metadata": {},
   "outputs": [],
   "source": [
    "df = df[df.win_or_lose != 0]"
   ]
  },
  {
   "cell_type": "code",
   "execution_count": 28,
   "metadata": {},
   "outputs": [],
   "source": [
    "df = df.dropna()"
   ]
  },
  {
   "cell_type": "code",
   "execution_count": 29,
   "metadata": {},
   "outputs": [],
   "source": [
    "df.to_csv('epl1819.csv', index=False)"
   ]
  },
  {
   "cell_type": "code",
   "execution_count": 30,
   "metadata": {},
   "outputs": [
    {
     "data": {
      "text/html": [
       "<div>\n",
       "<style scoped>\n",
       "    .dataframe tbody tr th:only-of-type {\n",
       "        vertical-align: middle;\n",
       "    }\n",
       "\n",
       "    .dataframe tbody tr th {\n",
       "        vertical-align: top;\n",
       "    }\n",
       "\n",
       "    .dataframe thead th {\n",
       "        text-align: right;\n",
       "    }\n",
       "</style>\n",
       "<table border=\"1\" class=\"dataframe\">\n",
       "  <thead>\n",
       "    <tr style=\"text-align: right;\">\n",
       "      <th></th>\n",
       "      <th>home</th>\n",
       "      <th>away</th>\n",
       "      <th>win_or_lose</th>\n",
       "    </tr>\n",
       "  </thead>\n",
       "  <tbody>\n",
       "    <tr>\n",
       "      <th>0</th>\n",
       "      <td>1</td>\n",
       "      <td>13</td>\n",
       "      <td>1.0</td>\n",
       "    </tr>\n",
       "    <tr>\n",
       "      <th>1</th>\n",
       "      <td>2</td>\n",
       "      <td>14</td>\n",
       "      <td>-1.0</td>\n",
       "    </tr>\n",
       "    <tr>\n",
       "      <th>2</th>\n",
       "      <td>3</td>\n",
       "      <td>11</td>\n",
       "      <td>1.0</td>\n",
       "    </tr>\n",
       "    <tr>\n",
       "      <th>3</th>\n",
       "      <td>4</td>\n",
       "      <td>20</td>\n",
       "      <td>-1.0</td>\n",
       "    </tr>\n",
       "    <tr>\n",
       "      <th>4</th>\n",
       "      <td>5</td>\n",
       "      <td>16</td>\n",
       "      <td>-1.0</td>\n",
       "    </tr>\n",
       "    <tr>\n",
       "      <th>...</th>\n",
       "      <td>...</td>\n",
       "      <td>...</td>\n",
       "      <td>...</td>\n",
       "    </tr>\n",
       "    <tr>\n",
       "      <th>372</th>\n",
       "      <td>20</td>\n",
       "      <td>3</td>\n",
       "      <td>1.0</td>\n",
       "    </tr>\n",
       "    <tr>\n",
       "      <th>373</th>\n",
       "      <td>4</td>\n",
       "      <td>2</td>\n",
       "      <td>-1.0</td>\n",
       "    </tr>\n",
       "    <tr>\n",
       "      <th>375</th>\n",
       "      <td>8</td>\n",
       "      <td>7</td>\n",
       "      <td>1.0</td>\n",
       "    </tr>\n",
       "    <tr>\n",
       "      <th>376</th>\n",
       "      <td>1</td>\n",
       "      <td>11</td>\n",
       "      <td>-1.0</td>\n",
       "    </tr>\n",
       "    <tr>\n",
       "      <th>379</th>\n",
       "      <td>6</td>\n",
       "      <td>15</td>\n",
       "      <td>-1.0</td>\n",
       "    </tr>\n",
       "  </tbody>\n",
       "</table>\n",
       "<p>309 rows × 3 columns</p>\n",
       "</div>"
      ],
      "text/plain": [
       "     home  away  win_or_lose\n",
       "0       1    13          1.0\n",
       "1       2    14         -1.0\n",
       "2       3    11          1.0\n",
       "3       4    20         -1.0\n",
       "4       5    16         -1.0\n",
       "..    ...   ...          ...\n",
       "372    20     3          1.0\n",
       "373     4     2         -1.0\n",
       "375     8     7          1.0\n",
       "376     1    11         -1.0\n",
       "379     6    15         -1.0\n",
       "\n",
       "[309 rows x 3 columns]"
      ]
     },
     "execution_count": 30,
     "metadata": {},
     "output_type": "execute_result"
    }
   ],
   "source": [
    "df"
   ]
  },
  {
   "cell_type": "code",
   "execution_count": null,
   "metadata": {},
   "outputs": [],
   "source": []
  }
 ],
 "metadata": {
  "kernelspec": {
   "display_name": "Python 3.8.1 64-bit",
   "language": "python",
   "name": "python3"
  },
  "language_info": {
   "codemirror_mode": {
    "name": "ipython",
    "version": 3
   },
   "file_extension": ".py",
   "mimetype": "text/x-python",
   "name": "python",
   "nbconvert_exporter": "python",
   "pygments_lexer": "ipython3",
   "version": "3.8.1"
  },
  "orig_nbformat": 4,
  "vscode": {
   "interpreter": {
    "hash": "aee8b7b246df8f9039afb4144a1f6fd8d2ca17a180786b69acc140d282b71a49"
   }
  }
 },
 "nbformat": 4,
 "nbformat_minor": 2
}
